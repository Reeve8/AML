{
  "nbformat": 4,
  "nbformat_minor": 0,
  "metadata": {
    "colab": {
      "provenance": []
    },
    "kernelspec": {
      "name": "python3",
      "display_name": "Python 3"
    },
    "language_info": {
      "name": "python"
    }
  },
  "cells": [
    {
      "cell_type": "code",
      "execution_count": null,
      "metadata": {
        "id": "6K5wGdNE9SbL"
      },
      "outputs": [],
      "source": [
        "import numpy as np\n",
        "from sklearn.decomposition import PCA\n",
        "from sklearn.preprocessing import StandardScaler\n",
        "import pandas as pd"
      ]
    },
    {
      "cell_type": "code",
      "source": [
        "# Load CSV file into a DataFrame\n",
        "file_path = '/content/GlobalLandTemperaturesByCity.csv'  # Replace 'your_file.csv' with the actual path to your CSV file\n",
        "data = pd.read_csv(file_path)\n"
      ],
      "metadata": {
        "id": "xEm-gENm9mJ-"
      },
      "execution_count": null,
      "outputs": []
    },
    {
      "cell_type": "code",
      "source": [
        "print(data.head())"
      ],
      "metadata": {
        "colab": {
          "base_uri": "https://localhost:8080/"
        },
        "id": "YG_654N19mMW",
        "outputId": "0a229191-71b0-4aaa-c7a3-45c71995ff60"
      },
      "execution_count": null,
      "outputs": [
        {
          "output_type": "stream",
          "name": "stdout",
          "text": [
            "           dt  AverageTemperature  AverageTemperatureUncertainty   City  \\\n",
            "0  1743-11-01               6.068                          1.737  Århus   \n",
            "1  1743-12-01                 NaN                            NaN  Århus   \n",
            "2  1744-01-01                 NaN                            NaN  Århus   \n",
            "3  1744-02-01                 NaN                            NaN  Århus   \n",
            "4  1744-03-01                 NaN                            NaN  Århus   \n",
            "\n",
            "   Country Latitude Longitude  \n",
            "0  Denmark   57.05N    10.33E  \n",
            "1  Denmark   57.05N    10.33E  \n",
            "2  Denmark   57.05N    10.33E  \n",
            "3  Denmark   57.05N    10.33E  \n",
            "4  Denmark   57.05N    10.33E  \n"
          ]
        }
      ]
    },
    {
      "cell_type": "code",
      "source": [
        "data.info"
      ],
      "metadata": {
        "colab": {
          "base_uri": "https://localhost:8080/"
        },
        "id": "S6Y9W9Zi9mPZ",
        "outputId": "93d54111-9e77-473a-c3fb-11e02beadec0"
      },
      "execution_count": null,
      "outputs": [
        {
          "output_type": "execute_result",
          "data": {
            "text/plain": [
              "<bound method DataFrame.info of                dt  AverageTemperature  AverageTemperatureUncertainty  \\\n",
              "0      1743-11-01               6.068                          1.737   \n",
              "1      1743-12-01                 NaN                            NaN   \n",
              "2      1744-01-01                 NaN                            NaN   \n",
              "3      1744-02-01                 NaN                            NaN   \n",
              "4      1744-03-01                 NaN                            NaN   \n",
              "...           ...                 ...                            ...   \n",
              "69606  1916-12-01              25.551                          0.573   \n",
              "69607  1917-01-01              25.449                          0.567   \n",
              "69608  1917-02-01              25.253                          0.274   \n",
              "69609  1917-03-01              25.751                          0.426   \n",
              "69610  1917-04-01              25.820                            NaN   \n",
              "\n",
              "           City    Country Latitude Longitude  \n",
              "0         Århus    Denmark   57.05N    10.33E  \n",
              "1         Århus    Denmark   57.05N    10.33E  \n",
              "2         Århus    Denmark   57.05N    10.33E  \n",
              "3         Århus    Denmark   57.05N    10.33E  \n",
              "4         Århus    Denmark   57.05N    10.33E  \n",
              "...         ...        ...      ...       ...  \n",
              "69606  Adiwerna  Indonesia    7.23S   109.46E  \n",
              "69607  Adiwerna  Indonesia    7.23S   109.46E  \n",
              "69608  Adiwerna  Indonesia    7.23S   109.46E  \n",
              "69609  Adiwerna  Indonesia    7.23S   109.46E  \n",
              "69610       NaN        NaN      NaN       NaN  \n",
              "\n",
              "[69611 rows x 7 columns]>"
            ]
          },
          "metadata": {},
          "execution_count": 4
        }
      ]
    },
    {
      "cell_type": "code",
      "source": [
        "data"
      ],
      "metadata": {
        "colab": {
          "base_uri": "https://localhost:8080/",
          "height": 424
        },
        "id": "enGWB5n29mSj",
        "outputId": "f68757b0-c1e7-4d69-b699-e82e91dd45c1"
      },
      "execution_count": null,
      "outputs": [
        {
          "output_type": "execute_result",
          "data": {
            "text/plain": [
              "               dt  AverageTemperature  AverageTemperatureUncertainty  \\\n",
              "0      1743-11-01               6.068                          1.737   \n",
              "1      1743-12-01                 NaN                            NaN   \n",
              "2      1744-01-01                 NaN                            NaN   \n",
              "3      1744-02-01                 NaN                            NaN   \n",
              "4      1744-03-01                 NaN                            NaN   \n",
              "...           ...                 ...                            ...   \n",
              "69606  1916-12-01              25.551                          0.573   \n",
              "69607  1917-01-01              25.449                          0.567   \n",
              "69608  1917-02-01              25.253                          0.274   \n",
              "69609  1917-03-01              25.751                          0.426   \n",
              "69610  1917-04-01              25.820                            NaN   \n",
              "\n",
              "           City    Country Latitude Longitude  \n",
              "0         Århus    Denmark   57.05N    10.33E  \n",
              "1         Århus    Denmark   57.05N    10.33E  \n",
              "2         Århus    Denmark   57.05N    10.33E  \n",
              "3         Århus    Denmark   57.05N    10.33E  \n",
              "4         Århus    Denmark   57.05N    10.33E  \n",
              "...         ...        ...      ...       ...  \n",
              "69606  Adiwerna  Indonesia    7.23S   109.46E  \n",
              "69607  Adiwerna  Indonesia    7.23S   109.46E  \n",
              "69608  Adiwerna  Indonesia    7.23S   109.46E  \n",
              "69609  Adiwerna  Indonesia    7.23S   109.46E  \n",
              "69610       NaN        NaN      NaN       NaN  \n",
              "\n",
              "[69611 rows x 7 columns]"
            ],
            "text/html": [
              "\n",
              "  <div id=\"df-e5b2d5c0-e554-424e-89a6-e63456273004\" class=\"colab-df-container\">\n",
              "    <div>\n",
              "<style scoped>\n",
              "    .dataframe tbody tr th:only-of-type {\n",
              "        vertical-align: middle;\n",
              "    }\n",
              "\n",
              "    .dataframe tbody tr th {\n",
              "        vertical-align: top;\n",
              "    }\n",
              "\n",
              "    .dataframe thead th {\n",
              "        text-align: right;\n",
              "    }\n",
              "</style>\n",
              "<table border=\"1\" class=\"dataframe\">\n",
              "  <thead>\n",
              "    <tr style=\"text-align: right;\">\n",
              "      <th></th>\n",
              "      <th>dt</th>\n",
              "      <th>AverageTemperature</th>\n",
              "      <th>AverageTemperatureUncertainty</th>\n",
              "      <th>City</th>\n",
              "      <th>Country</th>\n",
              "      <th>Latitude</th>\n",
              "      <th>Longitude</th>\n",
              "    </tr>\n",
              "  </thead>\n",
              "  <tbody>\n",
              "    <tr>\n",
              "      <th>0</th>\n",
              "      <td>1743-11-01</td>\n",
              "      <td>6.068</td>\n",
              "      <td>1.737</td>\n",
              "      <td>Århus</td>\n",
              "      <td>Denmark</td>\n",
              "      <td>57.05N</td>\n",
              "      <td>10.33E</td>\n",
              "    </tr>\n",
              "    <tr>\n",
              "      <th>1</th>\n",
              "      <td>1743-12-01</td>\n",
              "      <td>NaN</td>\n",
              "      <td>NaN</td>\n",
              "      <td>Århus</td>\n",
              "      <td>Denmark</td>\n",
              "      <td>57.05N</td>\n",
              "      <td>10.33E</td>\n",
              "    </tr>\n",
              "    <tr>\n",
              "      <th>2</th>\n",
              "      <td>1744-01-01</td>\n",
              "      <td>NaN</td>\n",
              "      <td>NaN</td>\n",
              "      <td>Århus</td>\n",
              "      <td>Denmark</td>\n",
              "      <td>57.05N</td>\n",
              "      <td>10.33E</td>\n",
              "    </tr>\n",
              "    <tr>\n",
              "      <th>3</th>\n",
              "      <td>1744-02-01</td>\n",
              "      <td>NaN</td>\n",
              "      <td>NaN</td>\n",
              "      <td>Århus</td>\n",
              "      <td>Denmark</td>\n",
              "      <td>57.05N</td>\n",
              "      <td>10.33E</td>\n",
              "    </tr>\n",
              "    <tr>\n",
              "      <th>4</th>\n",
              "      <td>1744-03-01</td>\n",
              "      <td>NaN</td>\n",
              "      <td>NaN</td>\n",
              "      <td>Århus</td>\n",
              "      <td>Denmark</td>\n",
              "      <td>57.05N</td>\n",
              "      <td>10.33E</td>\n",
              "    </tr>\n",
              "    <tr>\n",
              "      <th>...</th>\n",
              "      <td>...</td>\n",
              "      <td>...</td>\n",
              "      <td>...</td>\n",
              "      <td>...</td>\n",
              "      <td>...</td>\n",
              "      <td>...</td>\n",
              "      <td>...</td>\n",
              "    </tr>\n",
              "    <tr>\n",
              "      <th>69606</th>\n",
              "      <td>1916-12-01</td>\n",
              "      <td>25.551</td>\n",
              "      <td>0.573</td>\n",
              "      <td>Adiwerna</td>\n",
              "      <td>Indonesia</td>\n",
              "      <td>7.23S</td>\n",
              "      <td>109.46E</td>\n",
              "    </tr>\n",
              "    <tr>\n",
              "      <th>69607</th>\n",
              "      <td>1917-01-01</td>\n",
              "      <td>25.449</td>\n",
              "      <td>0.567</td>\n",
              "      <td>Adiwerna</td>\n",
              "      <td>Indonesia</td>\n",
              "      <td>7.23S</td>\n",
              "      <td>109.46E</td>\n",
              "    </tr>\n",
              "    <tr>\n",
              "      <th>69608</th>\n",
              "      <td>1917-02-01</td>\n",
              "      <td>25.253</td>\n",
              "      <td>0.274</td>\n",
              "      <td>Adiwerna</td>\n",
              "      <td>Indonesia</td>\n",
              "      <td>7.23S</td>\n",
              "      <td>109.46E</td>\n",
              "    </tr>\n",
              "    <tr>\n",
              "      <th>69609</th>\n",
              "      <td>1917-03-01</td>\n",
              "      <td>25.751</td>\n",
              "      <td>0.426</td>\n",
              "      <td>Adiwerna</td>\n",
              "      <td>Indonesia</td>\n",
              "      <td>7.23S</td>\n",
              "      <td>109.46E</td>\n",
              "    </tr>\n",
              "    <tr>\n",
              "      <th>69610</th>\n",
              "      <td>1917-04-01</td>\n",
              "      <td>25.820</td>\n",
              "      <td>NaN</td>\n",
              "      <td>NaN</td>\n",
              "      <td>NaN</td>\n",
              "      <td>NaN</td>\n",
              "      <td>NaN</td>\n",
              "    </tr>\n",
              "  </tbody>\n",
              "</table>\n",
              "<p>69611 rows × 7 columns</p>\n",
              "</div>\n",
              "    <div class=\"colab-df-buttons\">\n",
              "\n",
              "  <div class=\"colab-df-container\">\n",
              "    <button class=\"colab-df-convert\" onclick=\"convertToInteractive('df-e5b2d5c0-e554-424e-89a6-e63456273004')\"\n",
              "            title=\"Convert this dataframe to an interactive table.\"\n",
              "            style=\"display:none;\">\n",
              "\n",
              "  <svg xmlns=\"http://www.w3.org/2000/svg\" height=\"24px\" viewBox=\"0 -960 960 960\">\n",
              "    <path d=\"M120-120v-720h720v720H120Zm60-500h600v-160H180v160Zm220 220h160v-160H400v160Zm0 220h160v-160H400v160ZM180-400h160v-160H180v160Zm440 0h160v-160H620v160ZM180-180h160v-160H180v160Zm440 0h160v-160H620v160Z\"/>\n",
              "  </svg>\n",
              "    </button>\n",
              "\n",
              "  <style>\n",
              "    .colab-df-container {\n",
              "      display:flex;\n",
              "      gap: 12px;\n",
              "    }\n",
              "\n",
              "    .colab-df-convert {\n",
              "      background-color: #E8F0FE;\n",
              "      border: none;\n",
              "      border-radius: 50%;\n",
              "      cursor: pointer;\n",
              "      display: none;\n",
              "      fill: #1967D2;\n",
              "      height: 32px;\n",
              "      padding: 0 0 0 0;\n",
              "      width: 32px;\n",
              "    }\n",
              "\n",
              "    .colab-df-convert:hover {\n",
              "      background-color: #E2EBFA;\n",
              "      box-shadow: 0px 1px 2px rgba(60, 64, 67, 0.3), 0px 1px 3px 1px rgba(60, 64, 67, 0.15);\n",
              "      fill: #174EA6;\n",
              "    }\n",
              "\n",
              "    .colab-df-buttons div {\n",
              "      margin-bottom: 4px;\n",
              "    }\n",
              "\n",
              "    [theme=dark] .colab-df-convert {\n",
              "      background-color: #3B4455;\n",
              "      fill: #D2E3FC;\n",
              "    }\n",
              "\n",
              "    [theme=dark] .colab-df-convert:hover {\n",
              "      background-color: #434B5C;\n",
              "      box-shadow: 0px 1px 3px 1px rgba(0, 0, 0, 0.15);\n",
              "      filter: drop-shadow(0px 1px 2px rgba(0, 0, 0, 0.3));\n",
              "      fill: #FFFFFF;\n",
              "    }\n",
              "  </style>\n",
              "\n",
              "    <script>\n",
              "      const buttonEl =\n",
              "        document.querySelector('#df-e5b2d5c0-e554-424e-89a6-e63456273004 button.colab-df-convert');\n",
              "      buttonEl.style.display =\n",
              "        google.colab.kernel.accessAllowed ? 'block' : 'none';\n",
              "\n",
              "      async function convertToInteractive(key) {\n",
              "        const element = document.querySelector('#df-e5b2d5c0-e554-424e-89a6-e63456273004');\n",
              "        const dataTable =\n",
              "          await google.colab.kernel.invokeFunction('convertToInteractive',\n",
              "                                                    [key], {});\n",
              "        if (!dataTable) return;\n",
              "\n",
              "        const docLinkHtml = 'Like what you see? Visit the ' +\n",
              "          '<a target=\"_blank\" href=https://colab.research.google.com/notebooks/data_table.ipynb>data table notebook</a>'\n",
              "          + ' to learn more about interactive tables.';\n",
              "        element.innerHTML = '';\n",
              "        dataTable['output_type'] = 'display_data';\n",
              "        await google.colab.output.renderOutput(dataTable, element);\n",
              "        const docLink = document.createElement('div');\n",
              "        docLink.innerHTML = docLinkHtml;\n",
              "        element.appendChild(docLink);\n",
              "      }\n",
              "    </script>\n",
              "  </div>\n",
              "\n",
              "\n",
              "<div id=\"df-a327c2ca-8133-4f26-b0be-19c132894ae2\">\n",
              "  <button class=\"colab-df-quickchart\" onclick=\"quickchart('df-a327c2ca-8133-4f26-b0be-19c132894ae2')\"\n",
              "            title=\"Suggest charts\"\n",
              "            style=\"display:none;\">\n",
              "\n",
              "<svg xmlns=\"http://www.w3.org/2000/svg\" height=\"24px\"viewBox=\"0 0 24 24\"\n",
              "     width=\"24px\">\n",
              "    <g>\n",
              "        <path d=\"M19 3H5c-1.1 0-2 .9-2 2v14c0 1.1.9 2 2 2h14c1.1 0 2-.9 2-2V5c0-1.1-.9-2-2-2zM9 17H7v-7h2v7zm4 0h-2V7h2v10zm4 0h-2v-4h2v4z\"/>\n",
              "    </g>\n",
              "</svg>\n",
              "  </button>\n",
              "\n",
              "<style>\n",
              "  .colab-df-quickchart {\n",
              "      --bg-color: #E8F0FE;\n",
              "      --fill-color: #1967D2;\n",
              "      --hover-bg-color: #E2EBFA;\n",
              "      --hover-fill-color: #174EA6;\n",
              "      --disabled-fill-color: #AAA;\n",
              "      --disabled-bg-color: #DDD;\n",
              "  }\n",
              "\n",
              "  [theme=dark] .colab-df-quickchart {\n",
              "      --bg-color: #3B4455;\n",
              "      --fill-color: #D2E3FC;\n",
              "      --hover-bg-color: #434B5C;\n",
              "      --hover-fill-color: #FFFFFF;\n",
              "      --disabled-bg-color: #3B4455;\n",
              "      --disabled-fill-color: #666;\n",
              "  }\n",
              "\n",
              "  .colab-df-quickchart {\n",
              "    background-color: var(--bg-color);\n",
              "    border: none;\n",
              "    border-radius: 50%;\n",
              "    cursor: pointer;\n",
              "    display: none;\n",
              "    fill: var(--fill-color);\n",
              "    height: 32px;\n",
              "    padding: 0;\n",
              "    width: 32px;\n",
              "  }\n",
              "\n",
              "  .colab-df-quickchart:hover {\n",
              "    background-color: var(--hover-bg-color);\n",
              "    box-shadow: 0 1px 2px rgba(60, 64, 67, 0.3), 0 1px 3px 1px rgba(60, 64, 67, 0.15);\n",
              "    fill: var(--button-hover-fill-color);\n",
              "  }\n",
              "\n",
              "  .colab-df-quickchart-complete:disabled,\n",
              "  .colab-df-quickchart-complete:disabled:hover {\n",
              "    background-color: var(--disabled-bg-color);\n",
              "    fill: var(--disabled-fill-color);\n",
              "    box-shadow: none;\n",
              "  }\n",
              "\n",
              "  .colab-df-spinner {\n",
              "    border: 2px solid var(--fill-color);\n",
              "    border-color: transparent;\n",
              "    border-bottom-color: var(--fill-color);\n",
              "    animation:\n",
              "      spin 1s steps(1) infinite;\n",
              "  }\n",
              "\n",
              "  @keyframes spin {\n",
              "    0% {\n",
              "      border-color: transparent;\n",
              "      border-bottom-color: var(--fill-color);\n",
              "      border-left-color: var(--fill-color);\n",
              "    }\n",
              "    20% {\n",
              "      border-color: transparent;\n",
              "      border-left-color: var(--fill-color);\n",
              "      border-top-color: var(--fill-color);\n",
              "    }\n",
              "    30% {\n",
              "      border-color: transparent;\n",
              "      border-left-color: var(--fill-color);\n",
              "      border-top-color: var(--fill-color);\n",
              "      border-right-color: var(--fill-color);\n",
              "    }\n",
              "    40% {\n",
              "      border-color: transparent;\n",
              "      border-right-color: var(--fill-color);\n",
              "      border-top-color: var(--fill-color);\n",
              "    }\n",
              "    60% {\n",
              "      border-color: transparent;\n",
              "      border-right-color: var(--fill-color);\n",
              "    }\n",
              "    80% {\n",
              "      border-color: transparent;\n",
              "      border-right-color: var(--fill-color);\n",
              "      border-bottom-color: var(--fill-color);\n",
              "    }\n",
              "    90% {\n",
              "      border-color: transparent;\n",
              "      border-bottom-color: var(--fill-color);\n",
              "    }\n",
              "  }\n",
              "</style>\n",
              "\n",
              "  <script>\n",
              "    async function quickchart(key) {\n",
              "      const quickchartButtonEl =\n",
              "        document.querySelector('#' + key + ' button');\n",
              "      quickchartButtonEl.disabled = true;  // To prevent multiple clicks.\n",
              "      quickchartButtonEl.classList.add('colab-df-spinner');\n",
              "      try {\n",
              "        const charts = await google.colab.kernel.invokeFunction(\n",
              "            'suggestCharts', [key], {});\n",
              "      } catch (error) {\n",
              "        console.error('Error during call to suggestCharts:', error);\n",
              "      }\n",
              "      quickchartButtonEl.classList.remove('colab-df-spinner');\n",
              "      quickchartButtonEl.classList.add('colab-df-quickchart-complete');\n",
              "    }\n",
              "    (() => {\n",
              "      let quickchartButtonEl =\n",
              "        document.querySelector('#df-a327c2ca-8133-4f26-b0be-19c132894ae2 button');\n",
              "      quickchartButtonEl.style.display =\n",
              "        google.colab.kernel.accessAllowed ? 'block' : 'none';\n",
              "    })();\n",
              "  </script>\n",
              "</div>\n",
              "    </div>\n",
              "  </div>\n"
            ]
          },
          "metadata": {},
          "execution_count": 5
        }
      ]
    },
    {
      "cell_type": "code",
      "source": [
        "data.isnull().sum()"
      ],
      "metadata": {
        "colab": {
          "base_uri": "https://localhost:8080/"
        },
        "id": "ZG8FIT7lQybq",
        "outputId": "ff51d34f-a86e-489b-fd72-852193185363"
      },
      "execution_count": null,
      "outputs": [
        {
          "output_type": "execute_result",
          "data": {
            "text/plain": [
              "dt                                  0\n",
              "AverageTemperature               3021\n",
              "AverageTemperatureUncertainty    3022\n",
              "City                                1\n",
              "Country                             1\n",
              "Latitude                            2\n",
              "Longitude                           3\n",
              "dtype: int64"
            ]
          },
          "metadata": {},
          "execution_count": 6
        }
      ]
    },
    {
      "cell_type": "code",
      "source": [
        "# Mean imputation\n",
        "data.fillna(data.mean(), inplace=True)\n",
        "\n",
        "# Display the updated DataFrame with missing values filled using mean imputation\n",
        "print(\"\\nDataFrame after mean imputation:\")\n",
        "print(data)"
      ],
      "metadata": {
        "id": "o68z3pNrQyOi",
        "colab": {
          "base_uri": "https://localhost:8080/"
        },
        "outputId": "bbdfbb6e-0e18-4a37-8f20-f1008f9ea607"
      },
      "execution_count": null,
      "outputs": [
        {
          "output_type": "stream",
          "name": "stdout",
          "text": [
            "\n",
            "DataFrame after mean imputation:\n",
            "               dt  AverageTemperature  AverageTemperatureUncertainty  \\\n",
            "0      1743-11-01            6.068000                       1.737000   \n",
            "1      1743-12-01           15.675517                       1.096238   \n",
            "2      1744-01-01           15.675517                       1.096238   \n",
            "3      1744-02-01           15.675517                       1.096238   \n",
            "4      1744-03-01           15.675517                       1.096238   \n",
            "...           ...                 ...                            ...   \n",
            "69606  1916-12-01           25.551000                       0.573000   \n",
            "69607  1917-01-01           25.449000                       0.567000   \n",
            "69608  1917-02-01           25.253000                       0.274000   \n",
            "69609  1917-03-01           25.751000                       0.426000   \n",
            "69610  1917-04-01           25.820000                       1.096238   \n",
            "\n",
            "           City    Country Latitude Longitude  \n",
            "0         Århus    Denmark   57.05N    10.33E  \n",
            "1         Århus    Denmark   57.05N    10.33E  \n",
            "2         Århus    Denmark   57.05N    10.33E  \n",
            "3         Århus    Denmark   57.05N    10.33E  \n",
            "4         Århus    Denmark   57.05N    10.33E  \n",
            "...         ...        ...      ...       ...  \n",
            "69606  Adiwerna  Indonesia    7.23S   109.46E  \n",
            "69607  Adiwerna  Indonesia    7.23S   109.46E  \n",
            "69608  Adiwerna  Indonesia    7.23S   109.46E  \n",
            "69609  Adiwerna  Indonesia    7.23S   109.46E  \n",
            "69610       NaN        NaN      NaN       NaN  \n",
            "\n",
            "[69611 rows x 7 columns]\n"
          ]
        },
        {
          "output_type": "stream",
          "name": "stderr",
          "text": [
            "<ipython-input-7-3a554d05f55f>:2: FutureWarning: The default value of numeric_only in DataFrame.mean is deprecated. In a future version, it will default to False. In addition, specifying 'numeric_only=None' is deprecated. Select only valid columns or specify the value of numeric_only to silence this warning.\n",
            "  data.fillna(data.mean(), inplace=True)\n"
          ]
        }
      ]
    },
    {
      "cell_type": "code",
      "source": [
        "data.isnull().sum()"
      ],
      "metadata": {
        "id": "sKmvlXTxQ7Fw",
        "colab": {
          "base_uri": "https://localhost:8080/"
        },
        "outputId": "70b1c4b9-f00a-4a54-d853-f254eb88afdd"
      },
      "execution_count": null,
      "outputs": [
        {
          "output_type": "execute_result",
          "data": {
            "text/plain": [
              "dt                               0\n",
              "AverageTemperature               0\n",
              "AverageTemperatureUncertainty    0\n",
              "City                             1\n",
              "Country                          1\n",
              "Latitude                         2\n",
              "Longitude                        3\n",
              "dtype: int64"
            ]
          },
          "metadata": {},
          "execution_count": 8
        }
      ]
    },
    {
      "cell_type": "code",
      "source": [
        "# Selecting numerical columns for PCA\n",
        "numerical_columns = ['AverageTemperature', 'AverageTemperatureUncertainty', 'Latitude', 'Longitude']\n",
        "X = data[numerical_columns]\n"
      ],
      "metadata": {
        "id": "kGSigSxI9mV7"
      },
      "execution_count": null,
      "outputs": []
    },
    {
      "cell_type": "code",
      "source": [
        "numeric_data = data[numerical_columns]"
      ],
      "metadata": {
        "id": "Hmu9adaa_WNp"
      },
      "execution_count": null,
      "outputs": []
    },
    {
      "cell_type": "code",
      "source": [
        "# Dropping rows with missing values (NaN) if necessary\n",
        "numeric_data = numeric_data.dropna()\n"
      ],
      "metadata": {
        "id": "iWicoyk3_aS2"
      },
      "execution_count": null,
      "outputs": []
    },
    {
      "cell_type": "code",
      "source": [
        "# Separating features for PCA\n",
        "X = numeric_data.drop(['Latitude', 'Longitude'], axis=1)  # Exclude non-numeric columns\n"
      ],
      "metadata": {
        "id": "Rzkvfkqi_eLV"
      },
      "execution_count": null,
      "outputs": []
    },
    {
      "cell_type": "code",
      "source": [
        "scaler = StandardScaler()\n",
        "X_standardized = scaler.fit_transform(X)"
      ],
      "metadata": {
        "id": "-NmjO3p39mZG"
      },
      "execution_count": null,
      "outputs": []
    },
    {
      "cell_type": "code",
      "source": [
        "# Apply PCA\n",
        "n_components = 2  # Number of principal components to keep\n",
        "pca = PCA(n_components=n_components)\n",
        "X_pca = pca.fit_transform(X_standardized)"
      ],
      "metadata": {
        "id": "ccJXiKdV9mcc"
      },
      "execution_count": null,
      "outputs": []
    },
    {
      "cell_type": "code",
      "source": [
        "# Create a new DataFrame with the principal components\n",
        "columns = [f\"PC{i+1}\" for i in range(n_components)]\n",
        "pca_df = pd.DataFrame(data=X_pca, columns=columns)"
      ],
      "metadata": {
        "id": "jTM-GKTT9mfv"
      },
      "execution_count": null,
      "outputs": []
    },
    {
      "cell_type": "code",
      "source": [
        "# Display the first few rows of the PCA-transformed data\n",
        "print(\"Top few rows of Data After PCA:\")\n",
        "print(pca_df.head())"
      ],
      "metadata": {
        "colab": {
          "base_uri": "https://localhost:8080/"
        },
        "id": "H7yUpM_N9mjD",
        "outputId": "391da8e5-ae9a-43e5-b3ae-b938a4d0bdfd"
      },
      "execution_count": null,
      "outputs": [
        {
          "output_type": "stream",
          "name": "stdout",
          "text": [
            "Top few rows of Data After PCA:\n",
            "        PC1       PC2\n",
            "0  0.962443 -0.176312\n",
            "1  0.000003 -0.000030\n",
            "2  0.000003 -0.000030\n",
            "3  0.000003 -0.000030\n",
            "4  0.000003 -0.000030\n"
          ]
        }
      ]
    },
    {
      "cell_type": "code",
      "source": [
        "# Display the explained variance ratio\n",
        "print(\"\\nExplained Variance Ratio:\", pca.explained_variance_ratio_)"
      ],
      "metadata": {
        "colab": {
          "base_uri": "https://localhost:8080/"
        },
        "id": "OAcULQpJ9mmp",
        "outputId": "6ece9c8e-ca28-4408-c3ed-821cf920d830"
      },
      "execution_count": null,
      "outputs": [
        {
          "output_type": "stream",
          "name": "stdout",
          "text": [
            "\n",
            "Explained Variance Ratio: [0.62763761 0.37236239]\n"
          ]
        }
      ]
    },
    {
      "cell_type": "code",
      "source": [
        "\n",
        "import matplotlib.pyplot as plt\n"
      ],
      "metadata": {
        "id": "wr68PR33AGuE"
      },
      "execution_count": null,
      "outputs": []
    },
    {
      "cell_type": "code",
      "source": [
        "# Scatter plot of the first two principal components\n",
        "plt.scatter(pca_df['PC1'], pca_df['PC2'])\n",
        "plt.title('Scatter Plot of First Two Principal Components')\n",
        "plt.xlabel('Principal Component 1')\n",
        "plt.ylabel('Principal Component 2')\n",
        "plt.show()"
      ],
      "metadata": {
        "colab": {
          "base_uri": "https://localhost:8080/",
          "height": 472
        },
        "id": "z5-FYNvV_-iW",
        "outputId": "6ad3fbf2-0d65-4fd3-9537-350ea0d09b29"
      },
      "execution_count": null,
      "outputs": [
        {
          "output_type": "display_data",
          "data": {
            "text/plain": [
              "<Figure size 640x480 with 1 Axes>"
            ],
            "image/png": "[encoded data removed]"
          },
          "metadata": {}
        }
      ]
    },
    {
      "cell_type": "code",
      "source": [
        "from sklearn.cluster import KMeans\n",
        "n_clusters = 3  # Replace with your chosen number of clusters\n",
        "kmeans = KMeans(n_clusters=n_clusters, random_state=42)\n"
      ],
      "metadata": {
        "id": "-f_ur65cDiBw"
      },
      "execution_count": null,
      "outputs": []
    },
    {
      "cell_type": "code",
      "source": [
        "# Fit KMeans on the PCA-transformed data\n",
        "clusters = kmeans.fit_predict(X_pca)\n"
      ],
      "metadata": {
        "colab": {
          "base_uri": "https://localhost:8080/"
        },
        "id": "0UKaTRTrDiFl",
        "outputId": "e15124c9-b54a-4bce-dd4c-6d8f230d3f65"
      },
      "execution_count": null,
      "outputs": [
        {
          "output_type": "stream",
          "name": "stderr",
          "text": [
            "/usr/local/lib/python3.10/dist-packages/sklearn/cluster/_kmeans.py:870: FutureWarning: The default value of `n_init` will change from 10 to 'auto' in 1.4. Set the value of `n_init` explicitly to suppress the warning\n",
            "  warnings.warn(\n"
          ]
        }
      ]
    },
    {
      "cell_type": "code",
      "source": [
        "\n",
        "# Add cluster labels to the PCA DataFrame\n",
        "pca_df['Cluster'] = clusters\n"
      ],
      "metadata": {
        "id": "nBKVjQRSDiLr"
      },
      "execution_count": null,
      "outputs": []
    },
    {
      "cell_type": "code",
      "source": [
        "# Visualize the clusters\n",
        "plt.scatter(pca_df['PC1'], pca_df['PC2'], c=pca_df['Cluster'], cmap='viridis')\n",
        "plt.title('Cluster Analysis Using PCA')\n",
        "plt.xlabel('Principal Component 1')\n",
        "plt.ylabel('Principal Component 2')\n",
        "plt.show()"
      ],
      "metadata": {
        "id": "mMvEU0qeDiOs",
        "colab": {
          "base_uri": "https://localhost:8080/",
          "height": 472
        },
        "outputId": "691c5a2f-1649-4b2f-9773-c0e53605014c"
      },
      "execution_count": null,
      "outputs": [
        {
          "output_type": "display_data",
          "data": {
            "text/plain": [
              "<Figure size 640x480 with 1 Axes>"
            ],
            "image/png": "[encoded data removed]"
          },
          "metadata": {}
        }
      ]
    },
    {
      "cell_type": "code",
      "source": [
        "from sklearn.metrics import silhouette_score\n",
        "\n",
        "# Assuming pca_df['Cluster'] contains the cluster labels\n",
        "silhouette_avg = silhouette_score(X_pca, pca_df['Cluster'])\n",
        "print(f\"Silhouette Score: {silhouette_avg}\")"
      ],
      "metadata": {
        "id": "caStUVkOFiWU",
        "colab": {
          "base_uri": "https://localhost:8080/"
        },
        "outputId": "816da21e-184f-4e6c-9c78-7b1745407219"
      },
      "execution_count": null,
      "outputs": [
        {
          "output_type": "stream",
          "name": "stdout",
          "text": [
            "Silhouette Score: 0.46223030129401194\n"
          ]
        }
      ]
    },
    {
      "cell_type": "code",
      "source": [
        "# Use the elbow method to find the optimal number of clusters for PCA-transformed data\n",
        "inertia_pca = []\n",
        "for i in range(1, 11):  # Trying clusters from 1 to 10\n",
        "    kmeans = KMeans(n_clusters=i, random_state=42)\n",
        "    kmeans.fit(X_pca)\n",
        "    inertia_pca.append(kmeans.inertia_)\n",
        "\n",
        "# Plot the elbow curve for PCA-transformed data\n",
        "plt.plot(range(1, 11), inertia_pca, marker='o')\n",
        "plt.title('Elbow Method for Optimal Number of Clusters (PCA)')\n",
        "plt.xlabel('Number of Clusters')\n",
        "plt.ylabel('Inertia')\n",
        "plt.show()\n"
      ],
      "metadata": {
        "id": "4t_yzNrYFiTS",
        "colab": {
          "base_uri": "https://localhost:8080/",
          "height": 839
        },
        "outputId": "a311797c-28f9-486e-cabe-e8cf182388f3"
      },
      "execution_count": null,
      "outputs": [
        {
          "output_type": "stream",
          "name": "stderr",
          "text": [
            "/usr/local/lib/python3.10/dist-packages/sklearn/cluster/_kmeans.py:870: FutureWarning: The default value of `n_init` will change from 10 to 'auto' in 1.4. Set the value of `n_init` explicitly to suppress the warning\n",
            "  warnings.warn(\n",
            "/usr/local/lib/python3.10/dist-packages/sklearn/cluster/_kmeans.py:870: FutureWarning: The default value of `n_init` will change from 10 to 'auto' in 1.4. Set the value of `n_init` explicitly to suppress the warning\n",
            "  warnings.warn(\n",
            "/usr/local/lib/python3.10/dist-packages/sklearn/cluster/_kmeans.py:870: FutureWarning: The default value of `n_init` will change from 10 to 'auto' in 1.4. Set the value of `n_init` explicitly to suppress the warning\n",
            "  warnings.warn(\n",
            "/usr/local/lib/python3.10/dist-packages/sklearn/cluster/_kmeans.py:870: FutureWarning: The default value of `n_init` will change from 10 to 'auto' in 1.4. Set the value of `n_init` explicitly to suppress the warning\n",
            "  warnings.warn(\n",
            "/usr/local/lib/python3.10/dist-packages/sklearn/cluster/_kmeans.py:870: FutureWarning: The default value of `n_init` will change from 10 to 'auto' in 1.4. Set the value of `n_init` explicitly to suppress the warning\n",
            "  warnings.warn(\n",
            "/usr/local/lib/python3.10/dist-packages/sklearn/cluster/_kmeans.py:870: FutureWarning: The default value of `n_init` will change from 10 to 'auto' in 1.4. Set the value of `n_init` explicitly to suppress the warning\n",
            "  warnings.warn(\n",
            "/usr/local/lib/python3.10/dist-packages/sklearn/cluster/_kmeans.py:870: FutureWarning: The default value of `n_init` will change from 10 to 'auto' in 1.4. Set the value of `n_init` explicitly to suppress the warning\n",
            "  warnings.warn(\n",
            "/usr/local/lib/python3.10/dist-packages/sklearn/cluster/_kmeans.py:870: FutureWarning: The default value of `n_init` will change from 10 to 'auto' in 1.4. Set the value of `n_init` explicitly to suppress the warning\n",
            "  warnings.warn(\n",
            "/usr/local/lib/python3.10/dist-packages/sklearn/cluster/_kmeans.py:870: FutureWarning: The default value of `n_init` will change from 10 to 'auto' in 1.4. Set the value of `n_init` explicitly to suppress the warning\n",
            "  warnings.warn(\n",
            "/usr/local/lib/python3.10/dist-packages/sklearn/cluster/_kmeans.py:870: FutureWarning: The default value of `n_init` will change from 10 to 'auto' in 1.4. Set the value of `n_init` explicitly to suppress the warning\n",
            "  warnings.warn(\n"
          ]
        },
        {
          "output_type": "display_data",
          "data": {
            "text/plain": [
              "<Figure size 640x480 with 1 Axes>"
            ],
            "image/png": "[encoded data removed]"
          },
          "metadata": {}
        }
      ]
    },
    {
      "cell_type": "code",
      "source": [
        "# Take input for the number of clusters from the user\n",
        "user_input = input(\"Enter the number of clusters for KMeans: \")\n",
        "n_clusters = int(user_input)\n",
        "\n",
        "# Perform KMeans clustering with the user-defined number of clusters\n",
        "kmeans_user_input = KMeans(n_clusters=n_clusters, random_state=42)\n",
        "clusters_user_input = kmeans_user_input.fit_predict(X_pca)\n",
        "\n",
        "# Add cluster labels to the PCA DataFrame\n",
        "pca_df['Cluster_User_Input'] = clusters_user_input\n",
        "\n",
        "# Visualize the clusters based on user input\n",
        "plt.scatter(pca_df['PC1'], pca_df['PC2'], c=pca_df['Cluster_User_Input'], cmap='viridis')\n",
        "plt.title(f'Cluster Analysis Using PCA ({n_clusters} Clusters)')\n",
        "plt.xlabel('Principal Component 1')\n",
        "plt.ylabel('Principal Component 2')\n",
        "plt.show()\n"
      ],
      "metadata": {
        "colab": {
          "base_uri": "https://localhost:8080/",
          "height": 544
        },
        "id": "fXf9unCt17_q",
        "outputId": "7bd2aad8-b9a5-4a47-bbd8-b074165b8c7b"
      },
      "execution_count": null,
      "outputs": [
        {
          "name": "stdout",
          "output_type": "stream",
          "text": [
            "Enter the number of clusters for KMeans: 4\n"
          ]
        },
        {
          "output_type": "stream",
          "name": "stderr",
          "text": [
            "/usr/local/lib/python3.10/dist-packages/sklearn/cluster/_kmeans.py:870: FutureWarning: The default value of `n_init` will change from 10 to 'auto' in 1.4. Set the value of `n_init` explicitly to suppress the warning\n",
            "  warnings.warn(\n"
          ]
        },
        {
          "output_type": "display_data",
          "data": {
            "text/plain": [
              "<Figure size 640x480 with 1 Axes>"
            ],
            "image/png": "[encoded data removed]"
          },
          "metadata": {}
        }
      ]
    },
    {
      "cell_type": "code",
      "source": [
        "from sklearn.metrics import silhouette_score\n",
        "\n",
        "# Assuming pca_df['Cluster_User_Input'] contains the cluster labels based on user input\n",
        "silhouette_avg_user_input = silhouette_score(X_pca, pca_df['Cluster_User_Input'])\n",
        "print(f\"Silhouette Score for {n_clusters} Clusters: {silhouette_avg_user_input}\")"
      ],
      "metadata": {
        "id": "gMZ2u3nB1wYT",
        "colab": {
          "base_uri": "https://localhost:8080/"
        },
        "outputId": "709e9922-dfb2-4a6c-cb94-24c7dfe6de71"
      },
      "execution_count": null,
      "outputs": [
        {
          "output_type": "stream",
          "name": "stdout",
          "text": [
            "Silhouette Score for 4 Clusters: 0.4039932047528257\n"
          ]
        }
      ]
    },
    {
      "cell_type": "markdown",
      "source": [
        "data set 2 by country\n"
      ],
      "metadata": {
        "id": "ur8lMDuM2iWi"
      }
    },
    {
      "cell_type": "code",
      "source": [
        "# Load CSV file into a DataFrame\n",
        "file_path = '/content/GlobalLandTemperaturesByCountry.csv'  # Replace 'your_file.csv' with the actual path to your CSV file\n",
        "data = pd.read_csv(file_path)\n"
      ],
      "metadata": {
        "id": "KR9-R26-FiKC",
        "colab": {
          "base_uri": "https://localhost:8080/",
          "height": 210
        },
        "outputId": "9594e302-ae06-4b11-8d2a-a9f173cd96fb"
      },
      "execution_count": null,
      "outputs": [
        {
          "output_type": "error",
          "ename": "NameError",
          "evalue": "name 'pd' is not defined",
          "traceback": [
            "\u001b[0;31m---------------------------------------------------------------------------\u001b[0m",
            "\u001b[0;31mNameError\u001b[0m                                 Traceback (most recent call last)",
            "\u001b[0;32m<ipython-input-3-cc66b86c4792>\u001b[0m in \u001b[0;36m<cell line: 3>\u001b[0;34m()\u001b[0m\n\u001b[1;32m      1\u001b[0m \u001b[0;31m# Load CSV file into a DataFrame\u001b[0m\u001b[0;34m\u001b[0m\u001b[0;34m\u001b[0m\u001b[0m\n\u001b[1;32m      2\u001b[0m \u001b[0mfile_path\u001b[0m \u001b[0;34m=\u001b[0m \u001b[0;34m'/content/GlobalLandTemperaturesByCountry.csv'\u001b[0m  \u001b[0;31m# Replace 'your_file.csv' with the actual path to your CSV file\u001b[0m\u001b[0;34m\u001b[0m\u001b[0;34m\u001b[0m\u001b[0m\n\u001b[0;32m----> 3\u001b[0;31m \u001b[0mdata\u001b[0m \u001b[0;34m=\u001b[0m \u001b[0mpd\u001b[0m\u001b[0;34m.\u001b[0m\u001b[0mread_csv\u001b[0m\u001b[0;34m(\u001b[0m\u001b[0mfile_path\u001b[0m\u001b[0;34m)\u001b[0m\u001b[0;34m\u001b[0m\u001b[0;34m\u001b[0m\u001b[0m\n\u001b[0m",
            "\u001b[0;31mNameError\u001b[0m: name 'pd' is not defined"
          ]
        }
      ]
    },
    {
      "cell_type": "code",
      "source": [
        "print(data.head())"
      ],
      "metadata": {
        "colab": {
          "base_uri": "https://localhost:8080/"
        },
        "id": "HZ5iGLCW3DCp",
        "outputId": "2c88c011-7041-4aa2-9289-43fa537df87a"
      },
      "execution_count": null,
      "outputs": [
        {
          "output_type": "stream",
          "name": "stdout",
          "text": [
            "           dt  AverageTemperature  AverageTemperatureUncertainty Country\n",
            "0  1743-11-01               4.384                          2.294   Åland\n",
            "1  1743-12-01                 NaN                            NaN   Åland\n",
            "2  1744-01-01                 NaN                            NaN   Åland\n",
            "3  1744-02-01                 NaN                            NaN   Åland\n",
            "4  1744-03-01                 NaN                            NaN   Åland\n"
          ]
        }
      ]
    },
    {
      "cell_type": "code",
      "source": [
        "data"
      ],
      "metadata": {
        "colab": {
          "base_uri": "https://localhost:8080/",
          "height": 424
        },
        "id": "XPYcFUPs3C8D",
        "outputId": "bd193b96-c84a-4b70-8509-4adf6a9e1dff"
      },
      "execution_count": null,
      "outputs": [
        {
          "output_type": "execute_result",
          "data": {
            "text/plain": [
              "               dt  AverageTemperature  AverageTemperatureUncertainty  \\\n",
              "0      1743-11-01               4.384                          2.294   \n",
              "1      1743-12-01                 NaN                            NaN   \n",
              "2      1744-01-01                 NaN                            NaN   \n",
              "3      1744-02-01                 NaN                            NaN   \n",
              "4      1744-03-01                 NaN                            NaN   \n",
              "...           ...                 ...                            ...   \n",
              "80383  1915-01-01              24.423                          0.582   \n",
              "80384  1915-02-01              24.282                          0.788   \n",
              "80385  1915-03-01              24.941                          0.678   \n",
              "80386  1915-04-01              25.254                          0.555   \n",
              "80387  1915-05-01              26.755                          0.826   \n",
              "\n",
              "                      Country  \n",
              "0                       Åland  \n",
              "1                       Åland  \n",
              "2                       Åland  \n",
              "3                       Åland  \n",
              "4                       Åland  \n",
              "...                       ...  \n",
              "80383  British Virgin Islands  \n",
              "80384  British Virgin Islands  \n",
              "80385  British Virgin Islands  \n",
              "80386  British Virgin Islands  \n",
              "80387    British Virgin Islan  \n",
              "\n",
              "[80388 rows x 4 columns]"
            ],
            "text/html": [
              "\n",
              "  <div id=\"df-0c20932e-9149-4917-99b3-534bab1693f1\" class=\"colab-df-container\">\n",
              "    <div>\n",
              "<style scoped>\n",
              "    .dataframe tbody tr th:only-of-type {\n",
              "        vertical-align: middle;\n",
              "    }\n",
              "\n",
              "    .dataframe tbody tr th {\n",
              "        vertical-align: top;\n",
              "    }\n",
              "\n",
              "    .dataframe thead th {\n",
              "        text-align: right;\n",
              "    }\n",
              "</style>\n",
              "<table border=\"1\" class=\"dataframe\">\n",
              "  <thead>\n",
              "    <tr style=\"text-align: right;\">\n",
              "      <th></th>\n",
              "      <th>dt</th>\n",
              "      <th>AverageTemperature</th>\n",
              "      <th>AverageTemperatureUncertainty</th>\n",
              "      <th>Country</th>\n",
              "    </tr>\n",
              "  </thead>\n",
              "  <tbody>\n",
              "    <tr>\n",
              "      <th>0</th>\n",
              "      <td>1743-11-01</td>\n",
              "      <td>4.384</td>\n",
              "      <td>2.294</td>\n",
              "      <td>Åland</td>\n",
              "    </tr>\n",
              "    <tr>\n",
              "      <th>1</th>\n",
              "      <td>1743-12-01</td>\n",
              "      <td>NaN</td>\n",
              "      <td>NaN</td>\n",
              "      <td>Åland</td>\n",
              "    </tr>\n",
              "    <tr>\n",
              "      <th>2</th>\n",
              "      <td>1744-01-01</td>\n",
              "      <td>NaN</td>\n",
              "      <td>NaN</td>\n",
              "      <td>Åland</td>\n",
              "    </tr>\n",
              "    <tr>\n",
              "      <th>3</th>\n",
              "      <td>1744-02-01</td>\n",
              "      <td>NaN</td>\n",
              "      <td>NaN</td>\n",
              "      <td>Åland</td>\n",
              "    </tr>\n",
              "    <tr>\n",
              "      <th>4</th>\n",
              "      <td>1744-03-01</td>\n",
              "      <td>NaN</td>\n",
              "      <td>NaN</td>\n",
              "      <td>Åland</td>\n",
              "    </tr>\n",
              "    <tr>\n",
              "      <th>...</th>\n",
              "      <td>...</td>\n",
              "      <td>...</td>\n",
              "      <td>...</td>\n",
              "      <td>...</td>\n",
              "    </tr>\n",
              "    <tr>\n",
              "      <th>80383</th>\n",
              "      <td>1915-01-01</td>\n",
              "      <td>24.423</td>\n",
              "      <td>0.582</td>\n",
              "      <td>British Virgin Islands</td>\n",
              "    </tr>\n",
              "    <tr>\n",
              "      <th>80384</th>\n",
              "      <td>1915-02-01</td>\n",
              "      <td>24.282</td>\n",
              "      <td>0.788</td>\n",
              "      <td>British Virgin Islands</td>\n",
              "    </tr>\n",
              "    <tr>\n",
              "      <th>80385</th>\n",
              "      <td>1915-03-01</td>\n",
              "      <td>24.941</td>\n",
              "      <td>0.678</td>\n",
              "      <td>British Virgin Islands</td>\n",
              "    </tr>\n",
              "    <tr>\n",
              "      <th>80386</th>\n",
              "      <td>1915-04-01</td>\n",
              "      <td>25.254</td>\n",
              "      <td>0.555</td>\n",
              "      <td>British Virgin Islands</td>\n",
              "    </tr>\n",
              "    <tr>\n",
              "      <th>80387</th>\n",
              "      <td>1915-05-01</td>\n",
              "      <td>26.755</td>\n",
              "      <td>0.826</td>\n",
              "      <td>British Virgin Islan</td>\n",
              "    </tr>\n",
              "  </tbody>\n",
              "</table>\n",
              "<p>80388 rows × 4 columns</p>\n",
              "</div>\n",
              "    <div class=\"colab-df-buttons\">\n",
              "\n",
              "  <div class=\"colab-df-container\">\n",
              "    <button class=\"colab-df-convert\" onclick=\"convertToInteractive('df-0c20932e-9149-4917-99b3-534bab1693f1')\"\n",
              "            title=\"Convert this dataframe to an interactive table.\"\n",
              "            style=\"display:none;\">\n",
              "\n",
              "  <svg xmlns=\"http://www.w3.org/2000/svg\" height=\"24px\" viewBox=\"0 -960 960 960\">\n",
              "    <path d=\"M120-120v-720h720v720H120Zm60-500h600v-160H180v160Zm220 220h160v-160H400v160Zm0 220h160v-160H400v160ZM180-400h160v-160H180v160Zm440 0h160v-160H620v160ZM180-180h160v-160H180v160Zm440 0h160v-160H620v160Z\"/>\n",
              "  </svg>\n",
              "    </button>\n",
              "\n",
              "  <style>\n",
              "    .colab-df-container {\n",
              "      display:flex;\n",
              "      gap: 12px;\n",
              "    }\n",
              "\n",
              "    .colab-df-convert {\n",
              "      background-color: #E8F0FE;\n",
              "      border: none;\n",
              "      border-radius: 50%;\n",
              "      cursor: pointer;\n",
              "      display: none;\n",
              "      fill: #1967D2;\n",
              "      height: 32px;\n",
              "      padding: 0 0 0 0;\n",
              "      width: 32px;\n",
              "    }\n",
              "\n",
              "    .colab-df-convert:hover {\n",
              "      background-color: #E2EBFA;\n",
              "      box-shadow: 0px 1px 2px rgba(60, 64, 67, 0.3), 0px 1px 3px 1px rgba(60, 64, 67, 0.15);\n",
              "      fill: #174EA6;\n",
              "    }\n",
              "\n",
              "    .colab-df-buttons div {\n",
              "      margin-bottom: 4px;\n",
              "    }\n",
              "\n",
              "    [theme=dark] .colab-df-convert {\n",
              "      background-color: #3B4455;\n",
              "      fill: #D2E3FC;\n",
              "    }\n",
              "\n",
              "    [theme=dark] .colab-df-convert:hover {\n",
              "      background-color: #434B5C;\n",
              "      box-shadow: 0px 1px 3px 1px rgba(0, 0, 0, 0.15);\n",
              "      filter: drop-shadow(0px 1px 2px rgba(0, 0, 0, 0.3));\n",
              "      fill: #FFFFFF;\n",
              "    }\n",
              "  </style>\n",
              "\n",
              "    <script>\n",
              "      const buttonEl =\n",
              "        document.querySelector('#df-0c20932e-9149-4917-99b3-534bab1693f1 button.colab-df-convert');\n",
              "      buttonEl.style.display =\n",
              "        google.colab.kernel.accessAllowed ? 'block' : 'none';\n",
              "\n",
              "      async function convertToInteractive(key) {\n",
              "        const element = document.querySelector('#df-0c20932e-9149-4917-99b3-534bab1693f1');\n",
              "        const dataTable =\n",
              "          await google.colab.kernel.invokeFunction('convertToInteractive',\n",
              "                                                    [key], {});\n",
              "        if (!dataTable) return;\n",
              "\n",
              "        const docLinkHtml = 'Like what you see? Visit the ' +\n",
              "          '<a target=\"_blank\" href=https://colab.research.google.com/notebooks/data_table.ipynb>data table notebook</a>'\n",
              "          + ' to learn more about interactive tables.';\n",
              "        element.innerHTML = '';\n",
              "        dataTable['output_type'] = 'display_data';\n",
              "        await google.colab.output.renderOutput(dataTable, element);\n",
              "        const docLink = document.createElement('div');\n",
              "        docLink.innerHTML = docLinkHtml;\n",
              "        element.appendChild(docLink);\n",
              "      }\n",
              "    </script>\n",
              "  </div>\n",
              "\n",
              "\n",
              "<div id=\"df-bb5da9ce-57b1-48f2-9095-0c19173c1124\">\n",
              "  <button class=\"colab-df-quickchart\" onclick=\"quickchart('df-bb5da9ce-57b1-48f2-9095-0c19173c1124')\"\n",
              "            title=\"Suggest charts\"\n",
              "            style=\"display:none;\">\n",
              "\n",
              "<svg xmlns=\"http://www.w3.org/2000/svg\" height=\"24px\"viewBox=\"0 0 24 24\"\n",
              "     width=\"24px\">\n",
              "    <g>\n",
              "        <path d=\"M19 3H5c-1.1 0-2 .9-2 2v14c0 1.1.9 2 2 2h14c1.1 0 2-.9 2-2V5c0-1.1-.9-2-2-2zM9 17H7v-7h2v7zm4 0h-2V7h2v10zm4 0h-2v-4h2v4z\"/>\n",
              "    </g>\n",
              "</svg>\n",
              "  </button>\n",
              "\n",
              "<style>\n",
              "  .colab-df-quickchart {\n",
              "      --bg-color: #E8F0FE;\n",
              "      --fill-color: #1967D2;\n",
              "      --hover-bg-color: #E2EBFA;\n",
              "      --hover-fill-color: #174EA6;\n",
              "      --disabled-fill-color: #AAA;\n",
              "      --disabled-bg-color: #DDD;\n",
              "  }\n",
              "\n",
              "  [theme=dark] .colab-df-quickchart {\n",
              "      --bg-color: #3B4455;\n",
              "      --fill-color: #D2E3FC;\n",
              "      --hover-bg-color: #434B5C;\n",
              "      --hover-fill-color: #FFFFFF;\n",
              "      --disabled-bg-color: #3B4455;\n",
              "      --disabled-fill-color: #666;\n",
              "  }\n",
              "\n",
              "  .colab-df-quickchart {\n",
              "    background-color: var(--bg-color);\n",
              "    border: none;\n",
              "    border-radius: 50%;\n",
              "    cursor: pointer;\n",
              "    display: none;\n",
              "    fill: var(--fill-color);\n",
              "    height: 32px;\n",
              "    padding: 0;\n",
              "    width: 32px;\n",
              "  }\n",
              "\n",
              "  .colab-df-quickchart:hover {\n",
              "    background-color: var(--hover-bg-color);\n",
              "    box-shadow: 0 1px 2px rgba(60, 64, 67, 0.3), 0 1px 3px 1px rgba(60, 64, 67, 0.15);\n",
              "    fill: var(--button-hover-fill-color);\n",
              "  }\n",
              "\n",
              "  .colab-df-quickchart-complete:disabled,\n",
              "  .colab-df-quickchart-complete:disabled:hover {\n",
              "    background-color: var(--disabled-bg-color);\n",
              "    fill: var(--disabled-fill-color);\n",
              "    box-shadow: none;\n",
              "  }\n",
              "\n",
              "  .colab-df-spinner {\n",
              "    border: 2px solid var(--fill-color);\n",
              "    border-color: transparent;\n",
              "    border-bottom-color: var(--fill-color);\n",
              "    animation:\n",
              "      spin 1s steps(1) infinite;\n",
              "  }\n",
              "\n",
              "  @keyframes spin {\n",
              "    0% {\n",
              "      border-color: transparent;\n",
              "      border-bottom-color: var(--fill-color);\n",
              "      border-left-color: var(--fill-color);\n",
              "    }\n",
              "    20% {\n",
              "      border-color: transparent;\n",
              "      border-left-color: var(--fill-color);\n",
              "      border-top-color: var(--fill-color);\n",
              "    }\n",
              "    30% {\n",
              "      border-color: transparent;\n",
              "      border-left-color: var(--fill-color);\n",
              "      border-top-color: var(--fill-color);\n",
              "      border-right-color: var(--fill-color);\n",
              "    }\n",
              "    40% {\n",
              "      border-color: transparent;\n",
              "      border-right-color: var(--fill-color);\n",
              "      border-top-color: var(--fill-color);\n",
              "    }\n",
              "    60% {\n",
              "      border-color: transparent;\n",
              "      border-right-color: var(--fill-color);\n",
              "    }\n",
              "    80% {\n",
              "      border-color: transparent;\n",
              "      border-right-color: var(--fill-color);\n",
              "      border-bottom-color: var(--fill-color);\n",
              "    }\n",
              "    90% {\n",
              "      border-color: transparent;\n",
              "      border-bottom-color: var(--fill-color);\n",
              "    }\n",
              "  }\n",
              "</style>\n",
              "\n",
              "  <script>\n",
              "    async function quickchart(key) {\n",
              "      const quickchartButtonEl =\n",
              "        document.querySelector('#' + key + ' button');\n",
              "      quickchartButtonEl.disabled = true;  // To prevent multiple clicks.\n",
              "      quickchartButtonEl.classList.add('colab-df-spinner');\n",
              "      try {\n",
              "        const charts = await google.colab.kernel.invokeFunction(\n",
              "            'suggestCharts', [key], {});\n",
              "      } catch (error) {\n",
              "        console.error('Error during call to suggestCharts:', error);\n",
              "      }\n",
              "      quickchartButtonEl.classList.remove('colab-df-spinner');\n",
              "      quickchartButtonEl.classList.add('colab-df-quickchart-complete');\n",
              "    }\n",
              "    (() => {\n",
              "      let quickchartButtonEl =\n",
              "        document.querySelector('#df-bb5da9ce-57b1-48f2-9095-0c19173c1124 button');\n",
              "      quickchartButtonEl.style.display =\n",
              "        google.colab.kernel.accessAllowed ? 'block' : 'none';\n",
              "    })();\n",
              "  </script>\n",
              "</div>\n",
              "    </div>\n",
              "  </div>\n"
            ]
          },
          "metadata": {},
          "execution_count": 30
        }
      ]
    },
    {
      "cell_type": "code",
      "source": [
        "data.isnull().sum()"
      ],
      "metadata": {
        "colab": {
          "base_uri": "https://localhost:8080/"
        },
        "id": "3wIiZG_H2xBt",
        "outputId": "f03cab37-fa66-49a9-e635-e134b32663d3"
      },
      "execution_count": null,
      "outputs": [
        {
          "output_type": "execute_result",
          "data": {
            "text/plain": [
              "dt                                  0\n",
              "AverageTemperature               4457\n",
              "AverageTemperatureUncertainty    3718\n",
              "Country                             0\n",
              "dtype: int64"
            ]
          },
          "metadata": {},
          "execution_count": 31
        }
      ]
    },
    {
      "cell_type": "code",
      "source": [
        "# Mean imputation\n",
        "data.fillna(data.mean(), inplace=True)\n",
        "\n",
        "# Display the updated DataFrame with missing values filled using mean imputation\n",
        "print(\"\\nDataFrame after mean imputation:\")\n",
        "print(data)"
      ],
      "metadata": {
        "id": "xnIGhBaJ3HXw",
        "colab": {
          "base_uri": "https://localhost:8080/"
        },
        "outputId": "f178133c-6ccc-47a2-ca8e-e20ff68ee29f"
      },
      "execution_count": null,
      "outputs": [
        {
          "output_type": "stream",
          "name": "stdout",
          "text": [
            "\n",
            "DataFrame after mean imputation:\n",
            "               dt  AverageTemperature  AverageTemperatureUncertainty  \\\n",
            "0      1743-11-01            4.384000                       2.294000   \n",
            "1      1743-12-01           17.695226                       0.991412   \n",
            "2      1744-01-01           17.695226                       0.991412   \n",
            "3      1744-02-01           17.695226                       0.991412   \n",
            "4      1744-03-01           17.695226                       0.991412   \n",
            "...           ...                 ...                            ...   \n",
            "80383  1915-01-01           24.423000                       0.582000   \n",
            "80384  1915-02-01           24.282000                       0.788000   \n",
            "80385  1915-03-01           24.941000                       0.678000   \n",
            "80386  1915-04-01           25.254000                       0.555000   \n",
            "80387  1915-05-01           26.755000                       0.826000   \n",
            "\n",
            "                      Country  \n",
            "0                       Åland  \n",
            "1                       Åland  \n",
            "2                       Åland  \n",
            "3                       Åland  \n",
            "4                       Åland  \n",
            "...                       ...  \n",
            "80383  British Virgin Islands  \n",
            "80384  British Virgin Islands  \n",
            "80385  British Virgin Islands  \n",
            "80386  British Virgin Islands  \n",
            "80387    British Virgin Islan  \n",
            "\n",
            "[80388 rows x 4 columns]\n"
          ]
        },
        {
          "output_type": "stream",
          "name": "stderr",
          "text": [
            "<ipython-input-32-3a554d05f55f>:2: FutureWarning: The default value of numeric_only in DataFrame.mean is deprecated. In a future version, it will default to False. In addition, specifying 'numeric_only=None' is deprecated. Select only valid columns or specify the value of numeric_only to silence this warning.\n",
            "  data.fillna(data.mean(), inplace=True)\n"
          ]
        }
      ]
    },
    {
      "cell_type": "code",
      "source": [
        "data.isnull().sum()"
      ],
      "metadata": {
        "id": "vSiW072A3HUe",
        "colab": {
          "base_uri": "https://localhost:8080/"
        },
        "outputId": "e2ed1eed-cadd-48e4-b77a-fbda62a9767b"
      },
      "execution_count": null,
      "outputs": [
        {
          "output_type": "execute_result",
          "data": {
            "text/plain": [
              "dt                               0\n",
              "AverageTemperature               0\n",
              "AverageTemperatureUncertainty    0\n",
              "Country                          0\n",
              "dtype: int64"
            ]
          },
          "metadata": {},
          "execution_count": 33
        }
      ]
    },
    {
      "cell_type": "code",
      "source": [
        "# Selecting numerical columns for PCA\n",
        "numerical_columns = ['AverageTemperature', 'AverageTemperatureUncertainty', 'Country', 'dt']\n",
        "X = data[numerical_columns]"
      ],
      "metadata": {
        "id": "ZU3q1pNK3HRB",
        "colab": {
          "base_uri": "https://localhost:8080/",
          "height": 210
        },
        "outputId": "bc770c24-3cf4-4dff-b4df-fa8a0cacf219"
      },
      "execution_count": null,
      "outputs": [
        {
          "output_type": "error",
          "ename": "NameError",
          "evalue": "name 'data' is not defined",
          "traceback": [
            "\u001b[0;31m---------------------------------------------------------------------------\u001b[0m",
            "\u001b[0;31mNameError\u001b[0m                                 Traceback (most recent call last)",
            "\u001b[0;32m<ipython-input-1-ac5b4afc41d5>\u001b[0m in \u001b[0;36m<cell line: 3>\u001b[0;34m()\u001b[0m\n\u001b[1;32m      1\u001b[0m \u001b[0;31m# Selecting numerical columns for PCA\u001b[0m\u001b[0;34m\u001b[0m\u001b[0;34m\u001b[0m\u001b[0m\n\u001b[1;32m      2\u001b[0m \u001b[0mnumerical_columns\u001b[0m \u001b[0;34m=\u001b[0m \u001b[0;34m[\u001b[0m\u001b[0;34m'AverageTemperature'\u001b[0m\u001b[0;34m,\u001b[0m \u001b[0;34m'AverageTemperatureUncertainty'\u001b[0m\u001b[0;34m,\u001b[0m \u001b[0;34m'Country'\u001b[0m\u001b[0;34m,\u001b[0m \u001b[0;34m'dt'\u001b[0m\u001b[0;34m]\u001b[0m\u001b[0;34m\u001b[0m\u001b[0;34m\u001b[0m\u001b[0m\n\u001b[0;32m----> 3\u001b[0;31m \u001b[0mX\u001b[0m \u001b[0;34m=\u001b[0m \u001b[0mdata\u001b[0m\u001b[0;34m[\u001b[0m\u001b[0mnumerical_columns\u001b[0m\u001b[0;34m]\u001b[0m\u001b[0;34m\u001b[0m\u001b[0;34m\u001b[0m\u001b[0m\n\u001b[0m",
            "\u001b[0;31mNameError\u001b[0m: name 'data' is not defined"
          ]
        }
      ]
    },
    {
      "cell_type": "code",
      "source": [
        "numeric_data = data[numerical_columns]"
      ],
      "metadata": {
        "id": "kVhoHukH3HNf"
      },
      "execution_count": null,
      "outputs": []
    },
    {
      "cell_type": "code",
      "source": [
        "# Dropping rows with missing values (NaN) if necessary\n",
        "numeric_data = numeric_data.dropna()\n"
      ],
      "metadata": {
        "id": "caiZUYXR3HKk"
      },
      "execution_count": null,
      "outputs": []
    },
    {
      "cell_type": "code",
      "source": [
        "# Separating features for PCA\n",
        "X = numeric_data.drop(['Latitude', 'Longitude'], axis=1)  # Exclude non-numeric columns\n"
      ],
      "metadata": {
        "id": "H7h_ZALi3HHe"
      },
      "execution_count": null,
      "outputs": []
    },
    {
      "cell_type": "code",
      "source": [
        "scaler = StandardScaler()\n",
        "X_standardized = scaler.fit_transform(X)"
      ],
      "metadata": {
        "id": "79ezcBFe3HEX"
      },
      "execution_count": null,
      "outputs": []
    },
    {
      "cell_type": "code",
      "source": [
        "# Apply PCA\n",
        "n_components = 2  # Number of principal components to keep\n",
        "pca = PCA(n_components=n_components)\n",
        "X_pca = pca.fit_transform(X_standardized)"
      ],
      "metadata": {
        "id": "1ablB3ME3HBM"
      },
      "execution_count": null,
      "outputs": []
    },
    {
      "cell_type": "code",
      "source": [
        "# Create a new DataFrame with the principal components\n",
        "columns = [f\"PC{i+1}\" for i in range(n_components)]\n",
        "pca_df = pd.DataFrame(data=X_pca, columns=columns)"
      ],
      "metadata": {
        "id": "L13ku8VJ3G_O"
      },
      "execution_count": null,
      "outputs": []
    },
    {
      "cell_type": "code",
      "source": [
        "# Display the first few rows of the PCA-transformed data\n",
        "print(\"Top few rows of Data After PCA:\")\n",
        "print(pca_df.head())"
      ],
      "metadata": {
        "id": "LBgdUBm14b-1"
      },
      "execution_count": null,
      "outputs": []
    },
    {
      "cell_type": "code",
      "source": [
        "# Display the explained variance ratio\n",
        "print(\"\\nExplained Variance Ratio:\", pca.explained_variance_ratio_)"
      ],
      "metadata": {
        "id": "djCQVq4z4b7A"
      },
      "execution_count": null,
      "outputs": []
    },
    {
      "cell_type": "code",
      "source": [
        "\n",
        "import matplotlib.pyplot as plt"
      ],
      "metadata": {
        "id": "aFA2nYry4b3z"
      },
      "execution_count": null,
      "outputs": []
    },
    {
      "cell_type": "code",
      "source": [
        "# Scatter plot of the first two principal components\n",
        "plt.scatter(pca_df['PC1'], pca_df['PC2'])\n",
        "plt.title('Scatter Plot of First Two Principal Components')\n",
        "plt.xlabel('Principal Component 1')\n",
        "plt.ylabel('Principal Component 2')\n",
        "plt.show()"
      ],
      "metadata": {
        "id": "1wXeqccs4b0x"
      },
      "execution_count": null,
      "outputs": []
    },
    {
      "cell_type": "code",
      "source": [
        "from sklearn.cluster import KMeans\n",
        "n_clusters = 3  # Replace with your chosen number of clusters\n",
        "kmeans = KMeans(n_clusters=n_clusters, random_state=42)\n"
      ],
      "metadata": {
        "id": "h5SdAoEY4byr"
      },
      "execution_count": null,
      "outputs": []
    },
    {
      "cell_type": "code",
      "source": [
        "# Fit KMeans on the PCA-transformed data\n",
        "clusters = kmeans.fit_predict(X_pca)"
      ],
      "metadata": {
        "id": "DsmN-sI94xwD"
      },
      "execution_count": null,
      "outputs": []
    },
    {
      "cell_type": "code",
      "source": [
        "\n",
        "# Add cluster labels to the PCA DataFrame\n",
        "pca_df['Cluster'] = clusters\n"
      ],
      "metadata": {
        "id": "Gdnc0ZzX4xsD"
      },
      "execution_count": null,
      "outputs": []
    },
    {
      "cell_type": "code",
      "source": [
        "# Visualize the clusters\n",
        "plt.scatter(pca_df['PC1'], pca_df['PC2'], c=pca_df['Cluster'], cmap='viridis')\n",
        "plt.title('Cluster Analysis Using PCA')\n",
        "plt.xlabel('Principal Component 1')\n",
        "plt.ylabel('Principal Component 2')\n",
        "plt.show()"
      ],
      "metadata": {
        "id": "dOmnRmR94xp_"
      },
      "execution_count": null,
      "outputs": []
    },
    {
      "cell_type": "code",
      "source": [
        "from sklearn.metrics import silhouette_score\n",
        "\n",
        "# Assuming pca_df['Cluster'] contains the cluster labels\n",
        "silhouette_avg = silhouette_score(X_pca, pca_df['Cluster'])\n",
        "print(f\"Silhouette Score: {silhouette_avg}\")"
      ],
      "metadata": {
        "id": "wT7yVNMW5F9s"
      },
      "execution_count": null,
      "outputs": []
    },
    {
      "cell_type": "code",
      "source": [
        "# Use the elbow method to find the optimal number of clusters for PCA-transformed data\n",
        "inertia_pca = []\n",
        "for i in range(1, 11):  # Trying clusters from 1 to 10\n",
        "    kmeans = KMeans(n_clusters=i, random_state=42)\n",
        "    kmeans.fit(X_pca)\n",
        "    inertia_pca.append(kmeans.inertia_)\n",
        "\n",
        "# Plot the elbow curve for PCA-transformed data\n",
        "plt.plot(range(1, 11), inertia_pca, marker='o')\n",
        "plt.title('Elbow Method for Optimal Number of Clusters (PCA)')\n",
        "plt.xlabel('Number of Clusters')\n",
        "plt.ylabel('Inertia')\n",
        "plt.show()"
      ],
      "metadata": {
        "id": "VtygF5Si5F6R"
      },
      "execution_count": null,
      "outputs": []
    },
    {
      "cell_type": "code",
      "source": [
        "# Take input for the number of clusters from the user\n",
        "user_input = input(\"Enter the number of clusters for KMeans: \")\n",
        "n_clusters = int(user_input)\n",
        "\n",
        "# Perform KMeans clustering with the user-defined number of clusters\n",
        "kmeans_user_input = KMeans(n_clusters=n_clusters, random_state=42)\n",
        "clusters_user_input = kmeans_user_input.fit_predict(X_pca)\n",
        "\n",
        "# Add cluster labels to the PCA DataFrame\n",
        "pca_df['Cluster_User_Input'] = clusters_user_input\n",
        "\n",
        "# Visualize the clusters based on user input\n",
        "plt.scatter(pca_df['PC1'], pca_df['PC2'], c=pca_df['Cluster_User_Input'], cmap='viridis')\n",
        "plt.title(f'Cluster Analysis Using PCA ({n_clusters} Clusters)')\n",
        "plt.xlabel('Principal Component 1')\n",
        "plt.ylabel('Principal Component 2')\n",
        "plt.show()\n"
      ],
      "metadata": {
        "id": "iBtn1qTB5F3C"
      },
      "execution_count": null,
      "outputs": []
    },
    {
      "cell_type": "code",
      "source": [],
      "metadata": {
        "id": "1DPgeVCX5F0M"
      },
      "execution_count": null,
      "outputs": []
    }
  ]
}